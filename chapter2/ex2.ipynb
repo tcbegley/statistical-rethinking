{
 "cells": [
  {
   "cell_type": "markdown",
   "metadata": {
    "nbpresent": {
     "id": "27247408-1043-41e2-887e-5fae6b877837"
    }
   },
   "source": [
    "# Chapter 2 Exercises"
   ]
  },
  {
   "cell_type": "markdown",
   "metadata": {
    "nbpresent": {
     "id": "dbc9a37b-4147-421c-8bc8-07026795f3cd"
    }
   },
   "source": [
    "## Easy"
   ]
  },
  {
   "cell_type": "markdown",
   "metadata": {
    "nbpresent": {
     "id": "43363048-029d-4989-abd5-e2b8dc3a9ce8"
    }
   },
   "source": [
    "**2E1** Which of the expressions below correspond to the statement: *the probability of rain on Monday*?\n",
    "\n",
    "1. $\\mathrm{Pr}(\\text{rain})$\n",
    "2. $\\mathrm{Pr}(\\text{rain}|\\text{Monday})$\n",
    "3. $\\mathrm{Pr}(\\text{Monday}|\\text{rain})$\n",
    "4. $\\mathrm{Pr}(\\text{rain, Monday}) / \\mathrm{Pr}(\\text{Monday})$\n",
    "\n",
    "*Answer:* 2 and 4"
   ]
  },
  {
   "cell_type": "markdown",
   "metadata": {
    "nbpresent": {
     "id": "fa46c148-f444-4c97-9d86-ea41f8293f6e"
    }
   },
   "source": [
    "**2E1** Which of the statments corresponds to the expression: $\\mathrm{Pr}(\\text{Monday}|\\text{rain})$\n",
    "\n",
    "1. The probability of rain on Monday\n",
    "2. The probability of rain, given that it is Monday\n",
    "3. The probability that it is Monday, given that it is raining\n",
    "4. The probability that it is Monday and that it is raining\n",
    "\n",
    "*Answer:* 3"
   ]
  },
  {
   "cell_type": "markdown",
   "metadata": {
    "nbpresent": {
     "id": "bed9b004-03ed-4eb3-944a-7786b0804708"
    }
   },
   "source": [
    "**2E3** Which of the expressions below correspond to the statment: *the probability that it is Monday, given that it is raining*?\n",
    "\n",
    "1. $\\mathrm{Pr}(\\text{Monday}|\\text{rain})$\n",
    "2. $\\mathrm{Pr}(\\text{rain}|\\text{Monday})$\n",
    "3. $\\mathrm{Pr}(\\text{rain}|\\text{Monday})\\:\\mathrm{Pr}(\\text{Monday})$\n",
    "4. $\\mathrm{Pr}(\\text{rain}|\\text{Monday})\\:\\mathrm{Pr}(\\text{Monday})\\:/\\:\\mathrm{Pr}(\\text{rain})$\n",
    "5. $\\mathrm{Pr}(\\text{Monday}|\\text{rain})\\:\\mathrm{Pr}(\\text{rain})\\:/\\:\\mathrm{Pr}(\\text{Monday})$\n",
    "\n",
    "*Answer:* 1 and 4"
   ]
  },
  {
   "cell_type": "markdown",
   "metadata": {
    "nbpresent": {
     "id": "d94fdfd2-3454-4d7a-92ce-f259e664cfed"
    }
   },
   "source": [
    "**2E4** A globe is tossed in the air and caught, and we record whether water or land ended up under our right index finger after the globe was caught. What does it mean to say that the probability of water is 0.7?\n",
    "\n",
    "*Answer:* It means that if the procedure were repeated, then the limit the proportion of trials where water was recorded would converge to 0.7 in the limit as the number of trials tends to infinity."
   ]
  },
  {
   "cell_type": "markdown",
   "metadata": {
    "nbpresent": {
     "id": "262b0d92-b4bc-48c4-b07c-93dcc54ff9fa"
    }
   },
   "source": [
    "## Medium"
   ]
  },
  {
   "cell_type": "markdown",
   "metadata": {
    "nbpresent": {
     "id": "e38f5612-a5ab-491f-bc94-768f49217213"
    }
   },
   "source": [
    "**2M1** Consider again the globe tossing example. Compute and plot the grid approximate posterior distribution for each of the following sets of observations. In each case, assume a uniform prior for $p$.\n",
    "\n",
    "1. $W$, $W$, $W$\n",
    "2. $W$, $W$, $W$, $L$\n",
    "3. $L$, $W$, $W$, $L$, $W$, $W$, $W$"
   ]
  },
  {
   "cell_type": "code",
   "execution_count": null,
   "metadata": {
    "nbpresent": {
     "id": "2109ba8d-f473-44bd-8f09-d636eca10e5d"
    }
   },
   "outputs": [],
   "source": [
    "import matplotlib.pyplot as plt\n",
    "import numpy as np\n",
    "from scipy.stats import beta, binom\n",
    "\n",
    "\n",
    "def approximate_posterior(n_water, n_trials, prior, grid_size=21):\n",
    "    p_grid = np.linspace(0, 1, grid_size)\n",
    "\n",
    "    prior = np.vectorize(prior)(p_grid)\n",
    "    likelihood = binom.pmf(n_water, n_trials, p_grid)\n",
    "\n",
    "    unnorm_posterior = likelihood * prior\n",
    "\n",
    "    return p_grid, grid_size * unnorm_posterior / np.sum(unnorm_posterior)"
   ]
  },
  {
   "cell_type": "markdown",
   "metadata": {
    "nbpresent": {
     "id": "d783772b-1e99-4964-a09c-66dd15380364"
    }
   },
   "source": [
    "In this case we actually know the analytic form of posterior distributions, they are\n",
    "\n",
    "1. $\\mathrm{Beta(4, 1)}$\n",
    "2. $\\mathrm{Beta(4, 2)}$\n",
    "3. $\\mathrm{Beta(6, 3)}$\n",
    "\n",
    "So in that which follows we will plot our approximation against the true solution for comparison."
   ]
  },
  {
   "cell_type": "code",
   "execution_count": null,
   "metadata": {
    "nbpresent": {
     "id": "2f2be40a-27ba-4786-8c60-7242c50db044"
    }
   },
   "outputs": [],
   "source": [
    "beta_grid = np.linspace(0, 1, 101)\n",
    "\n",
    "def unif_prior(x):\n",
    "    return 1\n",
    "\n",
    "f, ax = plt.subplots(figsize=(12, 4), ncols=3)\n",
    "\n",
    "ax[0].plot(*approximate_posterior(3, 3, unif_prior, 6))\n",
    "ax[1].plot(*approximate_posterior(3, 3, unif_prior, 21))\n",
    "ax[2].plot(beta_grid, beta.pdf(beta_grid, 4, 1))\n",
    "f.suptitle(\"3 successes from 3 trials\");"
   ]
  },
  {
   "cell_type": "code",
   "execution_count": null,
   "metadata": {
    "nbpresent": {
     "id": "a8c0f4cd-7701-47f1-a0ca-206d8cad40b3"
    }
   },
   "outputs": [],
   "source": [
    "f, ax = plt.subplots(figsize=(12, 4), ncols=3)\n",
    "\n",
    "ax[0].plot(*approximate_posterior(3, 4, unif_prior, 6))\n",
    "ax[1].plot(*approximate_posterior(3, 4, unif_prior, 21))\n",
    "ax[2].plot(beta_grid, beta.pdf(beta_grid, 4, 2))\n",
    "f.suptitle(\"3 successes from 4 trials\");"
   ]
  },
  {
   "cell_type": "code",
   "execution_count": null,
   "metadata": {
    "nbpresent": {
     "id": "a8c0f4cd-7701-47f1-a0ca-206d8cad40b3"
    }
   },
   "outputs": [],
   "source": [
    "f, ax = plt.subplots(figsize=(12, 4), ncols=3)\n",
    "\n",
    "ax[0].plot(*approximate_posterior(5, 7, unif_prior, 6))\n",
    "ax[1].plot(*approximate_posterior(5, 7, unif_prior, 21))\n",
    "ax[2].plot(beta_grid, beta.pdf(beta_grid, 6, 3))\n",
    "f.suptitle(\"5 successes from 7 trials\");"
   ]
  },
  {
   "cell_type": "markdown",
   "metadata": {},
   "source": [
    "**2M2** Now assume a prior for $p$ that is equal to zero when $p < 0.5$ and is a positive constant when $p \\geq 0.5$\n",
    "\n",
    "We need to use a lot more grid points in this case to get the step right. Could acheive the same with a non-uniform grid, but then normalisation is annoying..."
   ]
  },
  {
   "cell_type": "code",
   "execution_count": null,
   "metadata": {},
   "outputs": [],
   "source": [
    "def step_prior(x):\n",
    "    if x >= 0.5:\n",
    "        return 1\n",
    "    return 0\n",
    "\n",
    "f, ax = plt.subplots(figsize=(12, 4), ncols=3)\n",
    "\n",
    "ax[0].plot(*approximate_posterior(3, 3, step_prior, 101))\n",
    "ax[1].plot(*approximate_posterior(3, 4, step_prior, 101))\n",
    "ax[2].plot(*approximate_posterior(5, 7, step_prior, 101))"
   ]
  },
  {
   "cell_type": "markdown",
   "metadata": {},
   "source": [
    "**2M3** Suppose there are two globes, one for Earth and one for Mars. The Earth globe is 70% covered in water. The Mars globe is 100% land. Further suppose that one of these globes—you don’t know which—was tossed in the air and produced a “land” observation. Assume that each globe was equally likely to be tossed. Show that the posterior probability that the globe was the Earth, conditional on seeing “land” ($\\mathrm{Pr}(\\text{Earth}\\:|\\:\\text{land})$), is 0.23.\n",
    "\n",
    "*Answer:* We have\n",
    "\n",
    "$$\n",
    "    \\mathrm{Pr}(\\text{E}\\:|\\:\\text{L}) = \\frac{\\mathrm{Pr}(\\text{L}\\:|\\:\\text{E})\\mathrm{Pr}(\\text{E})}{\\mathrm{Pr}(\\text{L})} = \\frac{\\mathrm{Pr}(\\text{L}\\:|\\:\\text{E})\\mathrm{Pr}(\\text{E})}{\\mathrm{Pr}(\\text{L}\\:|\\:\\text{E})\\mathrm{Pr}(\\text{E}) + \\mathrm{Pr}(\\text{L}\\:|\\:\\text{M})\\mathrm{Pr}(\\text{M})}\n",
    "$$\n",
    "\n",
    "Moreover\n",
    "\n",
    "* $\\mathrm{Pr}(\\text{L}\\:|\\:\\text{E}) = 0.3$\n",
    "* $\\mathrm{Pr}(\\text{L}\\:|\\:\\text{M}) = 1$\n",
    "* $\\mathrm{Pr}(\\text{M}) = \\mathrm{Pr}(\\text{M}) = 0.5$\n",
    "\n",
    "hence\n",
    "\n",
    "$$\n",
    "    \\mathrm{Pr}(\\text{E}\\:|\\:\\text{L}) = \\frac{0.3 \\times 0.5}{0.3 \\times 0.5 + 1 \\times 0.5} \\approx 0.23\n",
    "$$"
   ]
  },
  {
   "cell_type": "markdown",
   "metadata": {},
   "source": [
    "**2M4** Suppose you have a deck with only three cards. Each card has two sides, and each side is either black or white. One card has two black sides. The second card has one black and one white side. The third card has two white sides. Now suppose all three cards are placed in a bag and shuffled. Someone reaches into the bag and pulls out a card and places it flat on a table. A black side is shown facing up, but you don’t know the color of the side facing down. Show that the probability that the other side is also black is 2/3.\n",
    "\n",
    "*Answer:* Let's abbreviate \"current side black\" to \"csb\" and \"other side black\" to \"osb\". Then we want to calculate\n",
    "\n",
    "$$\n",
    "    \\mathrm{Pr}(\\text{osb}\\:|\\:\\text{csb}) = \\frac{\\mathrm{Pr}(\\text{osb, csb})}{\\mathrm{Pr}(\\text{csb})}\n",
    "$$\n",
    "\n",
    "Now \n",
    "\n",
    "* $\\mathrm{Pr}(\\text{osb, csb}) = 2 / 6$ because of the 6 sides, 2 of them (both sides of the all black card) have the other side also being black.\n",
    "* $\\mathrm{Pr}(\\text{csb}) = 3 / 6$ because there are 6 sides in total, of which 3 are black.\n",
    "\n",
    "Hence $\\mathrm{Pr}(\\text{osb}\\:|\\:\\text{csb}) = 2 / 3$"
   ]
  },
  {
   "cell_type": "markdown",
   "metadata": {},
   "source": [
    "**2M5** Now suppose there are four cards: B/B, B/W, W/W, and another B/B. Again suppose a card is drawn from the bag and a black side appears face up. Again calculate the probability that the other side is black.\n",
    "\n",
    "*Answer* Reasoning similarly to before, there are 5 / 8 faces are black. 4 / 8 faces are black and have a black face on the other side of the card. Hence the probability of the other side being black given a black face is facing up is 4 / 5."
   ]
  },
  {
   "cell_type": "markdown",
   "metadata": {},
   "source": [
    "**2M6** Imagine that black ink is heavy,and so cards with black sides are heavier than cards with white sides. As a result, it’s less likely that a card with black sides is pulled from the bag. So again assume there are three cards: B/B, B/W, and W/W. After experimenting a number of times, you conclude that for every way to pull the B/B card from the bag, there are 2 ways to pull the B/W card and 3 ways to pull the W/W card. Again suppose that a card is pulled and a black side appears face up. Show that the probability the other side is black is now 0.5. Use the counting method, as before.\n",
    "\n",
    "*Answer:* We can apply the previous argument, but assume that the cards in the bag are B/B, B/W, B/W, W/W, W/W, W/W. We see that there are 4 / 12 black faces, and 2 / 12 of the faces are black and have a black face on the other side. So the probability is 2 / 4 = 1 / 2"
   ]
  },
  {
   "cell_type": "markdown",
   "metadata": {},
   "source": [
    "**2M7** Assume again the original card problem, with a single card showing a black side face up. Before looking at the other side, we draw another card from the bag and lay it face up on the table. The face that is shown on the new card is white. Show that the probability that the first card, the one showing a black side, has black on its other side is now 0.75. Use the counting method, if you can. Hint: Treat this like the sequence of globe tosses, counting all the ways to see each observation, for each possible first card.\n",
    "\n",
    "*Answer:* If the first card is the card that is black on both sides (2 ways for this to happen), then there are 3 ways to pick a second card and have a white face showing up. Hence 6 possible ways in which the first card will be black on the other side. If the first card is the card that has only one black face (only one way to pick this card and have the black face facing up), then the second card must be the all white card, and there are two ways to pick that card and have a white face facing up. Hence 2 ways total in which the first card will be white on the other side. Hence the probability that the first card is black on the other side is 6 / (6 + 2) = 3 / 4."
   ]
  },
  {
   "cell_type": "markdown",
   "metadata": {},
   "source": [
    "## Hard"
   ]
  },
  {
   "cell_type": "markdown",
   "metadata": {},
   "source": [
    "**2H1** Suppose there are two species of panda bear. Both are equally common in the wild and live in the same places. They look exactly alike and eat the same food, and there is yet no genetic assay capable of telling them apart. They differ however in their family sizes. Species A gives birth to twins 10% of the time, otherwise birthing a single infant. Species B births twins 20% of the time, otherwise birthing singleton infants. Assume these numbers are known with certainty, from many years of field research.\n",
    "Now suppose you are managing a captive panda breeding program. You have a new female panda of unknown species, and she has just given birth to twins. What is the probability that her next birth will also be twins?\n",
    "\n",
    "*Answer:* Let's denote by $t_1$ the event that the first birth is to twins, and by $t_2$ the event that the second birth is to twins. We denote by $A$ and $B$ the events that the panda is of species A or B respectively. Hence we want to calculate\n",
    "\n",
    "$$\n",
    "    \\mathrm{Pr}(t_2 \\: | \\: t_1) = \\mathrm{Pr}(t_2, \\: A \\: | \\: t_1) + \\mathrm{Pr}(t_2, \\: B \\: | \\: t_1) = \n",
    "     \\mathrm{Pr}(t_2 \\: | \\: A, \\: t_1)\\mathrm{Pr}(A \\: | \\: t_1) + \\mathrm{Pr}(t_2 \\: | \\: B, \\: t_1)\\mathrm{Pr}(B\\: |\\: t_1)\n",
    "$$\n",
    "\n",
    "Now\n",
    "\n",
    "* $\\mathrm{Pr}(t_2 \\: | \\: A, \\: t_1) = \\mathrm{Pr}(t_2 \\: | \\: A) = 0.1$\n",
    "* $\\mathrm{Pr}(t_2 \\: | \\: B, \\: t_1) = \\mathrm{Pr}(t_2 \\: | \\: B) = 0.2$\n",
    "\n",
    "and\n",
    "\n",
    "$$\n",
    "    \\mathrm{Pr}(A \\: | \\: t_1) = \\frac{\\mathrm{Pr}(t_1 \\: | \\: A)\\mathrm{Pr}(A)}{\\mathrm{Pr}(t_1 \\: | \\: A)\\mathrm{Pr}(A) + \\mathrm{Pr}(t_1 \\: | \\: B)\\mathrm{Pr}(B)} = \\frac{0.1 \\times 0.5}{0.1 \\times 0.5 + 0.2 \\times 0.5} = \\frac{1}{3}\n",
    "$$\n",
    "\n",
    "hence\n",
    "\n",
    "$$\n",
    "    \\mathrm{Pr}(B \\: | \\: t_1) = 1 - \\mathrm{Pr}(A \\: | \\: t_1) = \\frac{2}{3}\n",
    "$$\n",
    "\n",
    "Putting this all together we get\n",
    "\n",
    "$$\n",
    "    \\mathrm{Pr}(t_2 \\: | \\: t_1) = \\frac{1}{10} \\times \\frac{1}{3} + \\frac{1}{5} \\times \\frac{2}{3} = \\frac 1 6\n",
    "$$"
   ]
  },
  {
   "cell_type": "markdown",
   "metadata": {},
   "source": [
    "**2H2** Recall all the facts from the problem above. Now compute the probability that the panda we have is from species A, assuming we have observed only the first birth and that it was twins.\n",
    "\n",
    "*Answer:* We calculated this already in the above answer\n",
    "\n",
    "$$\n",
    "  \\mathrm{Pr}(A \\: | \\: t_1) = \\frac 1 3\n",
    "$$\n",
    "\n",
    "which does make me think perhaps the first question was meant to be done another way... but whatever."
   ]
  },
  {
   "cell_type": "markdown",
   "metadata": {},
   "source": [
    "**2H3** Continuing on from the previous problem, suppose the same panda mother has a second birth and that it is not twins, but a singleton infant. Compute the posterior probability that this panda is species A.\n",
    "\n",
    "*Answer:* Similarly to before we calculate\n",
    "\n",
    "$$\n",
    "    \\mathrm{Pr}(A \\: | \\: t_1, \\: s_2) = \\frac{\\mathrm{Pr}(t_1, \\: s_2 \\: | \\: A)\\mathrm{Pr}(A)}{\\mathrm{Pr}(t_1, \\: s_2 \\: | \\: A)\\mathrm{Pr}(A) + \\mathrm{Pr}(t_1, \\: s2 \\: | \\: B)\\mathrm{Pr}(B)} = \\frac{0.1 \\times 0.9 \\times 0.5}{0.1 \\times 0.9 \\times 0.5 + 0.2 \\times 0.8 \\times 0.5} = \\frac{9}{25}\n",
    "$$"
   ]
  },
  {
   "cell_type": "markdown",
   "metadata": {},
   "source": [
    "**2H4** A common boast of Bayesian statisticians is that Bayesian inference makes it easy to use all of the data, even if the data are of different types.\n",
    "So suppose now that a veterinarian comes along who has a new genetic test that she claims can identify the species of our mother panda. But the test, like all tests, is imperfect. This is the information you have about the test:\n",
    "\n",
    "* The probability it correctly identifies a species A panda is 0.8.\n",
    "* The probability it correctly identifies a species B panda is 0.65.\n",
    "\n",
    "The vet administers the test to your panda and tells you that the test is positive for species A. First ignore your previous information from the births and compute the posterior probability that your panda is species A. Then redo your calculation, now using the birth data as well."
   ]
  },
  {
   "cell_type": "markdown",
   "metadata": {},
   "source": [
    "*Answer:* We use the notation $t_A$ for the test is positive for species A.\n",
    "\n",
    "$$\n",
    "    \\mathrm{Pr}(A \\: | \\: t_A) = \\frac{\\mathrm{Pr}(t_A \\: | \\: A) \\: \\mathrm{Pr}(A)}{\\mathrm{Pr}(t_A \\: | \\: A) \\: \\mathrm{Pr}(A) + \\mathrm{Pr}(t_A \\: | \\: B)\\:\\mathrm{Pr}(B)}\n",
    "$$\n",
    "\n",
    "We have\n",
    "\n",
    "* $\\mathrm{Pr}(t_A \\: | \\: A) = 0.8$\n",
    "* $\\mathrm{Pr}(t_A \\: | \\: B) = 1 - 0.65 = 0.35$\n",
    "\n",
    "\n",
    "and so $\\mathrm{Pr}(A \\: | \\: t_A) \\approx 0.696$\n",
    "\n",
    "To incorporate the birth data, we need only replace $\\mathrm{Pr}(A)$ and $\\mathrm{Pr}(B)$ with $\\mathrm{Pr}(A \\: | \\: t_1)$ and $\\mathrm{Pr}(B \\: | \\: t_1)$ or $\\mathrm{Pr}(A \\: | \\: t_1, \\: s_2)$ and $\\mathrm{Pr}(B \\: | \\: t_1, \\: s_2)$. This leads to\n",
    "\n",
    "$\\mathrm{Pr}(A \\: | \\: t_A, \\: t_1) \\approx 0.533$\n",
    "\n",
    "and \n",
    "\n",
    "$\\mathrm{Pr}(A \\: | \\: t_A, \\: t_1, s_2) = 0.5625$"
   ]
  }
 ],
 "metadata": {
  "kernelspec": {
   "display_name": "Python [conda root]",
   "language": "python",
   "name": "conda-root-py"
  },
  "language_info": {
   "codemirror_mode": {
    "name": "ipython",
    "version": 3
   },
   "file_extension": ".py",
   "mimetype": "text/x-python",
   "name": "python",
   "nbconvert_exporter": "python",
   "pygments_lexer": "ipython3",
   "version": "3.6.4"
  }
 },
 "nbformat": 4,
 "nbformat_minor": 2
}
