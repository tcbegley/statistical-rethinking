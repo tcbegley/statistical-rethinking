{
 "cells": [
  {
   "cell_type": "markdown",
   "metadata": {},
   "source": [
    "# Chapter 2 Exercises"
   ]
  },
  {
   "cell_type": "markdown",
   "metadata": {},
   "source": [
    "## Easy"
   ]
  },
  {
   "cell_type": "markdown",
   "metadata": {},
   "source": [
    "**2E1** Which of the expressions below correspond to the statement: *the probability of rain on Monday*?\n",
    "\n",
    "1. $\\mathrm{Pr}(\\text{rain})$\n",
    "2. $\\mathrm{Pr}(\\text{rain}|\\text{Monday})$\n",
    "3. $\\mathrm{Pr}(\\text{Monday}|\\text{rain})$\n",
    "4. $\\mathrm{Pr}(\\text{rain, Monday}) / \\mathrm{Pr}(\\text{Monday})$\n",
    "\n",
    "*Answer:* 2 and 4"
   ]
  },
  {
   "cell_type": "markdown",
   "metadata": {},
   "source": [
    "**2E1** Which of the statments corresponds to the expression: $\\mathrm{Pr}(\\text{Monday}|\\text{rain})$\n",
    "\n",
    "1. The probability of rain on Monday\n",
    "2. The probability of rain, given that it is Monday\n",
    "3. The probability that it is Monday, given that it is raining\n",
    "4. The probability that it is Monday and that it is raining\n",
    "\n",
    "*Answer:* 3"
   ]
  },
  {
   "cell_type": "markdown",
   "metadata": {},
   "source": [
    "**2E3** Which of the expressions below correspond to the statment: *the probability that it is Monday, given that it is raining*?\n",
    "\n",
    "1. $\\mathrm{Pr}(\\text{Monday}|\\text{rain})$\n",
    "2. $\\mathrm{Pr}(\\text{rain}|\\text{Monday})$\n",
    "3. $\\mathrm{Pr}(\\text{rain}|\\text{Monday})\\:\\mathrm{Pr}(\\text{Monday})$\n",
    "4. $\\mathrm{Pr}(\\text{rain}|\\text{Monday})\\:\\mathrm{Pr}(\\text{Monday})\\:/\\:\\mathrm{Pr}(\\text{rain})$\n",
    "5. $\\mathrm{Pr}(\\text{Monday}|\\text{rain})\\:\\mathrm{Pr}(\\text{rain})\\:/\\:\\mathrm{Pr}(\\text{Monday})$\n",
    "\n",
    "*Answer:* 1 and 4"
   ]
  },
  {
   "cell_type": "markdown",
   "metadata": {},
   "source": [
    "**2E4** A globe is tossed in the air and caught, and we record whether water or land ended up under our right index finger after the globe was caught. What does it mean to say that the probability of water is 0.7?\n",
    "\n",
    "*Answer:* It means that if the procedure were repeated, then the limit the proportion of trials where water was recorded would converge to 0.7 in the limit as the number of trials tends to infinity."
   ]
  }
 ],
 "metadata": {
  "kernelspec": {
   "display_name": "Python [conda root]",
   "language": "python",
   "name": "conda-root-py"
  },
  "language_info": {
   "codemirror_mode": {
    "name": "ipython",
    "version": 3
   },
   "file_extension": ".py",
   "mimetype": "text/x-python",
   "name": "python",
   "nbconvert_exporter": "python",
   "pygments_lexer": "ipython3",
   "version": "3.6.4"
  }
 },
 "nbformat": 4,
 "nbformat_minor": 2
}
